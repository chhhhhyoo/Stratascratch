{
 "cells": [
  {
   "cell_type": "code",
   "execution_count": 2,
   "metadata": {},
   "outputs": [
    {
     "data": {
      "text/markdown": [
       "### Calendar Data Sample"
      ],
      "text/plain": [
       "<IPython.core.display.Markdown object>"
      ]
     },
     "metadata": {},
     "output_type": "display_data"
    },
    {
     "data": {
      "text/html": [
       "<div>\n",
       "<style scoped>\n",
       "    .dataframe tbody tr th:only-of-type {\n",
       "        vertical-align: middle;\n",
       "    }\n",
       "\n",
       "    .dataframe tbody tr th {\n",
       "        vertical-align: top;\n",
       "    }\n",
       "\n",
       "    .dataframe thead th {\n",
       "        text-align: right;\n",
       "    }\n",
       "</style>\n",
       "<table border=\"1\" class=\"dataframe\">\n",
       "  <thead>\n",
       "    <tr style=\"text-align: right;\">\n",
       "      <th></th>\n",
       "      <th>gregorian_date</th>\n",
       "      <th>month_name</th>\n",
       "    </tr>\n",
       "  </thead>\n",
       "  <tbody>\n",
       "    <tr>\n",
       "      <th>84</th>\n",
       "      <td>2019-08-24</td>\n",
       "      <td>Month 3</td>\n",
       "    </tr>\n",
       "    <tr>\n",
       "      <th>86</th>\n",
       "      <td>2019-08-26</td>\n",
       "      <td>Month 3</td>\n",
       "    </tr>\n",
       "    <tr>\n",
       "      <th>97</th>\n",
       "      <td>2019-09-06</td>\n",
       "      <td>Month 4</td>\n",
       "    </tr>\n",
       "    <tr>\n",
       "      <th>115</th>\n",
       "      <td>2019-09-24</td>\n",
       "      <td>Month 4</td>\n",
       "    </tr>\n",
       "    <tr>\n",
       "      <th>29</th>\n",
       "      <td>2019-06-30</td>\n",
       "      <td>Month 1</td>\n",
       "    </tr>\n",
       "  </tbody>\n",
       "</table>\n",
       "</div>"
      ],
      "text/plain": [
       "    gregorian_date month_name\n",
       "84      2019-08-24    Month 3\n",
       "86      2019-08-26    Month 3\n",
       "97      2019-09-06    Month 4\n",
       "115     2019-09-24    Month 4\n",
       "29      2019-06-30    Month 1"
      ]
     },
     "metadata": {},
     "output_type": "display_data"
    },
    {
     "data": {
      "text/markdown": [
       "### Client Data Sample"
      ],
      "text/plain": [
       "<IPython.core.display.Markdown object>"
      ]
     },
     "metadata": {},
     "output_type": "display_data"
    },
    {
     "data": {
      "text/html": [
       "<div>\n",
       "<style scoped>\n",
       "    .dataframe tbody tr th:only-of-type {\n",
       "        vertical-align: middle;\n",
       "    }\n",
       "\n",
       "    .dataframe tbody tr th {\n",
       "        vertical-align: top;\n",
       "    }\n",
       "\n",
       "    .dataframe thead th {\n",
       "        text-align: right;\n",
       "    }\n",
       "</style>\n",
       "<table border=\"1\" class=\"dataframe\">\n",
       "  <thead>\n",
       "    <tr style=\"text-align: right;\">\n",
       "      <th></th>\n",
       "      <th>client_id</th>\n",
       "      <th>client_geographical_region</th>\n",
       "      <th>client_residence_status</th>\n",
       "      <th>client_age</th>\n",
       "    </tr>\n",
       "  </thead>\n",
       "  <tbody>\n",
       "    <tr>\n",
       "      <th>6065</th>\n",
       "      <td>686872246977897</td>\n",
       "      <td>West</td>\n",
       "      <td>Own</td>\n",
       "      <td>35</td>\n",
       "    </tr>\n",
       "    <tr>\n",
       "      <th>28070</th>\n",
       "      <td>470518677565299</td>\n",
       "      <td>South</td>\n",
       "      <td>Rent</td>\n",
       "      <td>56</td>\n",
       "    </tr>\n",
       "    <tr>\n",
       "      <th>6936</th>\n",
       "      <td>883739117234218</td>\n",
       "      <td>South</td>\n",
       "      <td>Own</td>\n",
       "      <td>36</td>\n",
       "    </tr>\n",
       "    <tr>\n",
       "      <th>23158</th>\n",
       "      <td>822713875250308</td>\n",
       "      <td>South</td>\n",
       "      <td>Own</td>\n",
       "      <td>52</td>\n",
       "    </tr>\n",
       "    <tr>\n",
       "      <th>25506</th>\n",
       "      <td>442404955135328</td>\n",
       "      <td>South</td>\n",
       "      <td>Rent</td>\n",
       "      <td>53</td>\n",
       "    </tr>\n",
       "  </tbody>\n",
       "</table>\n",
       "</div>"
      ],
      "text/plain": [
       "             client_id client_geographical_region client_residence_status  \\\n",
       "6065   686872246977897                       West                     Own   \n",
       "28070  470518677565299                      South                    Rent   \n",
       "6936   883739117234218                      South                     Own   \n",
       "23158  822713875250308                      South                     Own   \n",
       "25506  442404955135328                      South                    Rent   \n",
       "\n",
       "       client_age  \n",
       "6065           35  \n",
       "28070          56  \n",
       "6936           36  \n",
       "23158          52  \n",
       "25506          53  "
      ]
     },
     "metadata": {},
     "output_type": "display_data"
    },
    {
     "data": {
      "text/markdown": [
       "### Deposit Data Sample"
      ],
      "text/plain": [
       "<IPython.core.display.Markdown object>"
      ]
     },
     "metadata": {},
     "output_type": "display_data"
    },
    {
     "data": {
      "text/html": [
       "<div>\n",
       "<style scoped>\n",
       "    .dataframe tbody tr th:only-of-type {\n",
       "        vertical-align: middle;\n",
       "    }\n",
       "\n",
       "    .dataframe tbody tr th {\n",
       "        vertical-align: top;\n",
       "    }\n",
       "\n",
       "    .dataframe thead th {\n",
       "        text-align: right;\n",
       "    }\n",
       "</style>\n",
       "<table border=\"1\" class=\"dataframe\">\n",
       "  <thead>\n",
       "    <tr style=\"text-align: right;\">\n",
       "      <th></th>\n",
       "      <th>client_id</th>\n",
       "      <th>deposit_type</th>\n",
       "      <th>deposit_amount</th>\n",
       "      <th>deposit_cadence</th>\n",
       "      <th>deposit_date</th>\n",
       "    </tr>\n",
       "  </thead>\n",
       "  <tbody>\n",
       "    <tr>\n",
       "      <th>229803</th>\n",
       "      <td>903285839400111</td>\n",
       "      <td>Scheduled Deposit</td>\n",
       "      <td>458.0</td>\n",
       "      <td>Monthly</td>\n",
       "      <td>2019-08-16</td>\n",
       "    </tr>\n",
       "    <tr>\n",
       "      <th>92181</th>\n",
       "      <td>19473282206850</td>\n",
       "      <td>Scheduled Deposit</td>\n",
       "      <td>334.0</td>\n",
       "      <td>Monthly</td>\n",
       "      <td>2019-10-08</td>\n",
       "    </tr>\n",
       "    <tr>\n",
       "      <th>284306</th>\n",
       "      <td>240342552445691</td>\n",
       "      <td>Actual Deposit</td>\n",
       "      <td>500.0</td>\n",
       "      <td>Biweekly</td>\n",
       "      <td>2019-10-14</td>\n",
       "    </tr>\n",
       "    <tr>\n",
       "      <th>117592</th>\n",
       "      <td>503016878166122</td>\n",
       "      <td>Scheduled Deposit</td>\n",
       "      <td>30.0</td>\n",
       "      <td>Biweekly</td>\n",
       "      <td>2019-07-03</td>\n",
       "    </tr>\n",
       "    <tr>\n",
       "      <th>453913</th>\n",
       "      <td>774929593989542</td>\n",
       "      <td>Scheduled Deposit</td>\n",
       "      <td>476.0</td>\n",
       "      <td>Monthly</td>\n",
       "      <td>2019-09-30</td>\n",
       "    </tr>\n",
       "  </tbody>\n",
       "</table>\n",
       "</div>"
      ],
      "text/plain": [
       "              client_id       deposit_type  deposit_amount deposit_cadence  \\\n",
       "229803  903285839400111  Scheduled Deposit           458.0         Monthly   \n",
       "92181    19473282206850  Scheduled Deposit           334.0         Monthly   \n",
       "284306  240342552445691     Actual Deposit           500.0        Biweekly   \n",
       "117592  503016878166122  Scheduled Deposit            30.0        Biweekly   \n",
       "453913  774929593989542  Scheduled Deposit           476.0         Monthly   \n",
       "\n",
       "       deposit_date  \n",
       "229803   2019-08-16  \n",
       "92181    2019-10-08  \n",
       "284306   2019-10-14  \n",
       "117592   2019-07-03  \n",
       "453913   2019-09-30  "
      ]
     },
     "metadata": {},
     "output_type": "display_data"
    }
   ],
   "source": [
    "import pandas as pd\n",
    "from IPython.display import display, Markdown\n",
    "\n",
    "# Loading data\n",
    "calendar_df = pd.read_csv(\"calendar_data.csv\")\n",
    "client_df = pd.read_csv(\"client_data.csv\")\n",
    "deposit_df = pd.read_csv(\"deposit_data.csv\")\n",
    "\n",
    "# Sampling data\n",
    "calendar_sample = calendar_df.sample(n=5, random_state=42)\n",
    "client_sample = client_df.sample(n=5, random_state=42)\n",
    "deposit_sample = deposit_df.sample(n=5, random_state=42)\n",
    "\n",
    "# Displaying samples\n",
    "display(Markdown(\"### Calendar Data Sample\"))\n",
    "display(calendar_sample)\n",
    "\n",
    "display(Markdown(\"### Client Data Sample\"))\n",
    "display(client_sample)\n",
    "\n",
    "display(Markdown(\"### Deposit Data Sample\"))\n",
    "display(deposit_sample)\n"
   ]
  },
  {
   "cell_type": "code",
   "execution_count": null,
   "metadata": {},
   "outputs": [],
   "source": []
  }
 ],
 "metadata": {
  "kernelspec": {
   "display_name": "Python 3",
   "language": "python",
   "name": "python3"
  },
  "language_info": {
   "codemirror_mode": {
    "name": "ipython",
    "version": 3
   },
   "file_extension": ".py",
   "mimetype": "text/x-python",
   "name": "python",
   "nbconvert_exporter": "python",
   "pygments_lexer": "ipython3",
   "version": "3.10.10"
  }
 },
 "nbformat": 4,
 "nbformat_minor": 2
}

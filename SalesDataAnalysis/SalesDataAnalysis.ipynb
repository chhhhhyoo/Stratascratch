{
 "cells": [
  {
   "cell_type": "code",
   "execution_count": 2,
   "metadata": {},
   "outputs": [],
   "source": [
    "# importing required libraries\n",
    "import pandas as pd\n",
    "import matplotlib.pyplot as plt\n",
    "import glob # to access pathways for multiple csv calls"
   ]
  },
  {
   "cell_type": "code",
   "execution_count": 3,
   "metadata": {},
   "outputs": [
    {
     "data": {
      "text/html": [
       "<div>\n",
       "<style scoped>\n",
       "    .dataframe tbody tr th:only-of-type {\n",
       "        vertical-align: middle;\n",
       "    }\n",
       "\n",
       "    .dataframe tbody tr th {\n",
       "        vertical-align: top;\n",
       "    }\n",
       "\n",
       "    .dataframe thead th {\n",
       "        text-align: right;\n",
       "    }\n",
       "</style>\n",
       "<table border=\"1\" class=\"dataframe\">\n",
       "  <thead>\n",
       "    <tr style=\"text-align: right;\">\n",
       "      <th></th>\n",
       "      <th>sale_time</th>\n",
       "      <th>purchaser_gender</th>\n",
       "    </tr>\n",
       "  </thead>\n",
       "  <tbody>\n",
       "    <tr>\n",
       "      <th>0</th>\n",
       "      <td>2012-10-01 01:42:22</td>\n",
       "      <td>female</td>\n",
       "    </tr>\n",
       "    <tr>\n",
       "      <th>1</th>\n",
       "      <td>2012-10-01 02:24:53</td>\n",
       "      <td>female</td>\n",
       "    </tr>\n",
       "    <tr>\n",
       "      <th>2</th>\n",
       "      <td>2012-10-01 02:25:40</td>\n",
       "      <td>female</td>\n",
       "    </tr>\n",
       "    <tr>\n",
       "      <th>3</th>\n",
       "      <td>2012-10-01 02:30:42</td>\n",
       "      <td>female</td>\n",
       "    </tr>\n",
       "    <tr>\n",
       "      <th>4</th>\n",
       "      <td>2012-10-01 02:51:32</td>\n",
       "      <td>male</td>\n",
       "    </tr>\n",
       "  </tbody>\n",
       "</table>\n",
       "</div>"
      ],
      "text/plain": [
       "             sale_time purchaser_gender\n",
       "0  2012-10-01 01:42:22           female\n",
       "1  2012-10-01 02:24:53           female\n",
       "2  2012-10-01 02:25:40           female\n",
       "3  2012-10-01 02:30:42           female\n",
       "4  2012-10-01 02:51:32             male"
      ]
     },
     "execution_count": 3,
     "metadata": {},
     "output_type": "execute_result"
    }
   ],
   "source": [
    "# all csv into one dataframe\n",
    "list_all = [pd.read_csv(filename) for filename in glob.glob('./data/*.csv')]\n",
    "df = pd.concat(list_all,axis=0) # concat row-wise\n",
    "df.head()"
   ]
  },
  {
   "cell_type": "code",
   "execution_count": 4,
   "metadata": {},
   "outputs": [
    {
     "name": "stdout",
     "output_type": "stream",
     "text": [
      "<class 'pandas.core.frame.DataFrame'>\n",
      "Int64Index: 204329 entries, 0 to 4998\n",
      "Data columns (total 2 columns):\n",
      " #   Column            Non-Null Count   Dtype \n",
      "---  ------            --------------   ----- \n",
      " 0   sale_time         204329 non-null  object\n",
      " 1   purchaser_gender  204329 non-null  object\n",
      "dtypes: object(2)\n",
      "memory usage: 4.7+ MB\n"
     ]
    }
   ],
   "source": [
    "df.info()"
   ]
  },
  {
   "cell_type": "code",
   "execution_count": 5,
   "metadata": {},
   "outputs": [
    {
     "name": "stdout",
     "output_type": "stream",
     "text": [
      "0   2012-10-01 01:42:22\n",
      "1   2012-10-01 02:24:53\n",
      "2   2012-10-01 02:25:40\n",
      "3   2012-10-01 02:30:42\n",
      "4   2012-10-01 02:51:32\n",
      "Name: sale_time, dtype: datetime64[ns]\n"
     ]
    },
    {
     "name": "stdout",
     "output_type": "stream",
     "text": [
      "sale_day\n",
      "2012-10-01    514\n",
      "2012-10-02    482\n",
      "2012-10-03    499\n",
      "2012-10-04    546\n",
      "2012-10-05    476\n",
      "Name: sale_time, dtype: int64\n"
     ]
    }
   ],
   "source": [
    "sale_day = pd.to_datetime(df['sale_time']) # change to datetime to use related functions\n",
    "print(sale_day.head())\n",
    "\n",
    "# groupby day -> rename axis(time -> day) / get size(sales count each day) -> rename index(sales_count)\n",
    "# daily_sales = sale_day.groupby(sale_day.dt.floor('d')).size().rename_axis('sale_day').reset_index(name='sales_count')\n",
    "daily_sales = sale_day.groupby(sale_day.dt.floor('d')).size().rename_axis('sale_day')\n",
    "\n",
    "print(daily_sales.head())"
   ]
  },
  {
   "cell_type": "code",
   "execution_count": 6,
   "metadata": {},
   "outputs": [
    {
     "name": "stdout",
     "output_type": "stream",
     "text": [
      "0   2012-10-01 01:42:22\n",
      "1   2012-10-01 02:24:53\n",
      "2   2012-10-01 02:25:40\n",
      "3   2012-10-01 02:30:42\n",
      "4   2012-10-01 02:51:32\n",
      "Name: sale_time, dtype: datetime64[ns]\n",
      "    sale_day  sales_count\n",
      "0 2012-10-01          514\n",
      "1 2012-10-02          482\n",
      "2 2012-10-03          499\n",
      "3 2012-10-04          546\n",
      "4 2012-10-05          476\n"
     ]
    },
    {
     "data": {
      "image/png": "[encoded data removed]",
      "text/plain": [
       "<Figure size 576x432 with 1 Axes>"
      ]
     },
     "metadata": {
      "needs_background": "light"
     },
     "output_type": "display_data"
    }
   ],
   "source": [
    "# 1. Plot daily sales for all 50 weeks.\n",
    "\n",
    "# To do this : sale_time -> sale_day (use groupby...day)\n",
    "\n",
    "# get daily sales\n",
    "sale_day = pd.to_datetime(df['sale_time']) # change to datetime to use related functions\n",
    "print(sale_day.head())\n",
    "\n",
    "# groupby day -> rename axis(time -> day) / get size(sales count each day) -> rename index(sales_count)\n",
    "daily_sales = sale_day.groupby(sale_day.dt.floor('d')).size().rename_axis('sale_day').reset_index(name='sales_count')\n",
    "print(daily_sales.head())\n",
    "\n",
    "# plot\n",
    "#  move sale_day to index for plotting\n",
    "daily_sales.index = daily_sales['sale_day']\n",
    "daily_sales.drop(columns=['sale_day'], inplace=True)\n",
    "\n",
    "#  plot daily sales for all 50 weeks\n",
    "daily_sales.plot(figsize=(8,6), title = \"Daily sales over 50 weeks\")\n",
    "plt.show()\n",
    "\n"
   ]
  },
  {
   "cell_type": "code",
   "execution_count": 7,
   "metadata": {},
   "outputs": [
    {
     "data": {
      "text/html": [
       "<div>\n",
       "<style scoped>\n",
       "    .dataframe tbody tr th:only-of-type {\n",
       "        vertical-align: middle;\n",
       "    }\n",
       "\n",
       "    .dataframe tbody tr th {\n",
       "        vertical-align: top;\n",
       "    }\n",
       "\n",
       "    .dataframe thead th {\n",
       "        text-align: right;\n",
       "    }\n",
       "</style>\n",
       "<table border=\"1\" class=\"dataframe\">\n",
       "  <thead>\n",
       "    <tr style=\"text-align: right;\">\n",
       "      <th></th>\n",
       "      <th>sales_count</th>\n",
       "    </tr>\n",
       "    <tr>\n",
       "      <th>sale_day</th>\n",
       "      <th></th>\n",
       "    </tr>\n",
       "  </thead>\n",
       "  <tbody>\n",
       "    <tr>\n",
       "      <th>2012-10-01</th>\n",
       "      <td>514</td>\n",
       "    </tr>\n",
       "    <tr>\n",
       "      <th>2012-10-02</th>\n",
       "      <td>482</td>\n",
       "    </tr>\n",
       "    <tr>\n",
       "      <th>2012-10-03</th>\n",
       "      <td>499</td>\n",
       "    </tr>\n",
       "    <tr>\n",
       "      <th>2012-10-04</th>\n",
       "      <td>546</td>\n",
       "    </tr>\n",
       "    <tr>\n",
       "      <th>2012-10-05</th>\n",
       "      <td>476</td>\n",
       "    </tr>\n",
       "    <tr>\n",
       "      <th>...</th>\n",
       "      <td>...</td>\n",
       "    </tr>\n",
       "    <tr>\n",
       "      <th>2013-09-11</th>\n",
       "      <td>719</td>\n",
       "    </tr>\n",
       "    <tr>\n",
       "      <th>2013-09-12</th>\n",
       "      <td>735</td>\n",
       "    </tr>\n",
       "    <tr>\n",
       "      <th>2013-09-13</th>\n",
       "      <td>743</td>\n",
       "    </tr>\n",
       "    <tr>\n",
       "      <th>2013-09-14</th>\n",
       "      <td>655</td>\n",
       "    </tr>\n",
       "    <tr>\n",
       "      <th>2013-09-15</th>\n",
       "      <td>752</td>\n",
       "    </tr>\n",
       "  </tbody>\n",
       "</table>\n",
       "<p>350 rows × 1 columns</p>\n",
       "</div>"
      ],
      "text/plain": [
       "            sales_count\n",
       "sale_day               \n",
       "2012-10-01          514\n",
       "2012-10-02          482\n",
       "2012-10-03          499\n",
       "2012-10-04          546\n",
       "2012-10-05          476\n",
       "...                 ...\n",
       "2013-09-11          719\n",
       "2013-09-12          735\n",
       "2013-09-13          743\n",
       "2013-09-14          655\n",
       "2013-09-15          752\n",
       "\n",
       "[350 rows x 1 columns]"
      ]
     },
     "execution_count": 7,
     "metadata": {},
     "output_type": "execute_result"
    }
   ],
   "source": [
    "daily_sales"
   ]
  },
  {
   "cell_type": "code",
   "execution_count": 12,
   "metadata": {},
   "outputs": [
    {
     "name": "stdout",
     "output_type": "stream",
     "text": [
      "Date of sudden change in daily sales occurred : 2013-04-29 00:00:00\n"
     ]
    }
   ],
   "source": [
    "# 2. Identify the date on which a sudden change in daily sales occurred.\n",
    "daily_sales['prev_day_count'] = [None] + daily_sales['sales_count'].to_list()[:-1]\n",
    "daily_sales['change_in_sales'] = abs(daily_sales['sales_count'] - daily_sales['prev_day_count'])\n",
    "max_idx = daily_sales['change_in_sales'].idxmax()\n",
    "print(\"Date of sudden change in daily sales occurred :\", max_idx)"
   ]
  },
  {
   "cell_type": "code",
   "execution_count": 24,
   "metadata": {},
   "outputs": [
    {
     "data": {
      "text/plain": [
       "732"
      ]
     },
     "execution_count": 24,
     "metadata": {},
     "output_type": "execute_result"
    }
   ],
   "source": [
    "daily_sales[daily_sales.index == '2013-04-29']['sales_count'].values[0]"
   ]
  },
  {
   "cell_type": "code",
   "execution_count": null,
   "metadata": {},
   "outputs": [],
   "source": []
  },
  {
   "cell_type": "code",
   "execution_count": 30,
   "metadata": {},
   "outputs": [],
   "source": []
  },
  {
   "cell_type": "code",
   "execution_count": 31,
   "metadata": {},
   "outputs": [],
   "source": [
    "# from scipy.stats import wilcoxon\n",
    "\n",
    "# # Identify the date of the sudden change\n",
    "# change_date = '2013-04-29'\n",
    "\n",
    "# # Get the sales count for the identified date\n",
    "# sales_at_change_date = daily_sales.loc[change_date, 'sales_count']\n",
    "\n",
    "# # Get the sales count for the previous day\n",
    "# previous_date = pd.to_datetime(change_date) - pd.DateOffset(days=1)\n",
    "# sales_previous_day = daily_sales.loc[previous_date.strftime('%Y-%m-%d'), 'sales_count']\n",
    "\n",
    "# # Calculate the difference in sales\n",
    "# sales_difference = abs(sales_at_change_date - sales_previous_day)\n",
    "\n",
    "# # Perform Wilcoxon signed-rank test\n",
    "# statistic, p_value = wilcoxon([sales_difference])\n",
    "\n",
    "# # Define the significance level (alpha)\n",
    "# alpha = 0.05\n",
    "\n",
    "# # Check if the p-value is less than alpha\n",
    "# if p_value < alpha:\n",
    "#     print(f\"The change in daily sales on {change_date} is statistically significant (p-value = {p_value}).\")\n",
    "# else:\n",
    "#     print(f\"The change in daily sales on {change_date} is not statistically significant (p-value = {p_value}).\")\n"
   ]
  },
  {
   "cell_type": "code",
   "execution_count": null,
   "metadata": {},
   "outputs": [],
   "source": []
  }
 ],
 "metadata": {
  "kernelspec": {
   "display_name": "Python 3",
   "language": "python",
   "name": "python3"
  },
  "language_info": {
   "codemirror_mode": {
    "name": "ipython",
    "version": 3
   },
   "file_extension": ".py",
   "mimetype": "text/x-python",
   "name": "python",
   "nbconvert_exporter": "python",
   "pygments_lexer": "ipython3",
   "version": "3.9.7"
  }
 },
 "nbformat": 4,
 "nbformat_minor": 2
}

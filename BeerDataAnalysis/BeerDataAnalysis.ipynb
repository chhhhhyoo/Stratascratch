{
 "cells": [
  {
   "cell_type": "markdown",
   "id": "d9aeb8f0",
   "metadata": {},
   "source": [
    "### In this assignment you will work with a beer data set. Please provide an answer to the questions below. Answer as many questions as possible:\n",
    "\n",
    "\n",
    "- Rank the top 3 breweries which produce the strongest beers.\n",
    "\n",
    "- Which year did beers enjoy the highest ratings?\n",
    "\n",
    "- Based on the users' ratings, which factors are important among taste, aroma, appearance, and palette?\n",
    "\n",
    "- If you were to recommend 3 beers to your friends based on this data, which ones would you recommend?\n",
    "\n",
    "- Which beer style seems to be the favourite based on the reviews written by users? How does written reviews compare to overall review score for the beer style?"
   ]
  },
  {
   "cell_type": "markdown",
   "id": "3a0e4044",
   "metadata": {},
   "source": [
    "## Data Description\n",
    "\n",
    "The provided compressed file BeerDataScienceProject.tar.bz2 contains data about beers and their reviews. It has the following columns:\n",
    "\n",
    "beer_ABV - alcohol by volume\n",
    "\n",
    "beer_beerId - beer ID\n",
    "\n",
    "beer_brewerId - beer brewer ID\n",
    "\n",
    "beer_name - beer name\n",
    "\n",
    "beer_style - beer style\n",
    "\n",
    "review_appearance - review on the beer's appearance\n",
    "\n",
    "review_palette - review on the beer's palette (colours)\n",
    "\n",
    "review_overall - overall beer review\n",
    "\n",
    "review_taste - review on the beer's taste\n",
    "\n",
    "review_profileName - profile name of the reviewer\n",
    "\n",
    "review_aroma - review on the beer's aroma\n",
    "\n",
    "review_text - the full text of the review\n",
    "\n",
    "review_time - timestamp when the review was made"
   ]
  },
  {
   "cell_type": "code",
   "execution_count": 1,
   "id": "f54e692c",
   "metadata": {},
   "outputs": [
    {
     "data": {
      "text/html": [
       "<div>\n",
       "<style scoped>\n",
       "    .dataframe tbody tr th:only-of-type {\n",
       "        vertical-align: middle;\n",
       "    }\n",
       "\n",
       "    .dataframe tbody tr th {\n",
       "        vertical-align: top;\n",
       "    }\n",
       "\n",
       "    .dataframe thead th {\n",
       "        text-align: right;\n",
       "    }\n",
       "</style>\n",
       "<table border=\"1\" class=\"dataframe\">\n",
       "  <thead>\n",
       "    <tr style=\"text-align: right;\">\n",
       "      <th></th>\n",
       "      <th>beer_ABV</th>\n",
       "      <th>beer_beerId</th>\n",
       "      <th>beer_brewerId</th>\n",
       "      <th>beer_name</th>\n",
       "      <th>beer_style</th>\n",
       "      <th>review_appearance</th>\n",
       "      <th>review_palette</th>\n",
       "      <th>review_overall</th>\n",
       "      <th>review_taste</th>\n",
       "      <th>review_profileName</th>\n",
       "      <th>review_aroma</th>\n",
       "      <th>review_text</th>\n",
       "      <th>review_time</th>\n",
       "    </tr>\n",
       "  </thead>\n",
       "  <tbody>\n",
       "    <tr>\n",
       "      <th>0</th>\n",
       "      <td>5.0</td>\n",
       "      <td>47986</td>\n",
       "      <td>10325</td>\n",
       "      <td>Sausa Weizen</td>\n",
       "      <td>Hefeweizen</td>\n",
       "      <td>2.5</td>\n",
       "      <td>2.0</td>\n",
       "      <td>1.5</td>\n",
       "      <td>1.5</td>\n",
       "      <td>stcules</td>\n",
       "      <td>1.5</td>\n",
       "      <td>A lot of foam. But a lot. In the smell some ba...</td>\n",
       "      <td>1234817823</td>\n",
       "    </tr>\n",
       "    <tr>\n",
       "      <th>1</th>\n",
       "      <td>6.2</td>\n",
       "      <td>48213</td>\n",
       "      <td>10325</td>\n",
       "      <td>Red Moon</td>\n",
       "      <td>English Strong Ale</td>\n",
       "      <td>3.0</td>\n",
       "      <td>2.5</td>\n",
       "      <td>3.0</td>\n",
       "      <td>3.0</td>\n",
       "      <td>stcules</td>\n",
       "      <td>3.0</td>\n",
       "      <td>Dark red color, light beige foam, average. In ...</td>\n",
       "      <td>1235915097</td>\n",
       "    </tr>\n",
       "    <tr>\n",
       "      <th>2</th>\n",
       "      <td>6.5</td>\n",
       "      <td>48215</td>\n",
       "      <td>10325</td>\n",
       "      <td>Black Horse Black Beer</td>\n",
       "      <td>Foreign / Export Stout</td>\n",
       "      <td>3.0</td>\n",
       "      <td>2.5</td>\n",
       "      <td>3.0</td>\n",
       "      <td>3.0</td>\n",
       "      <td>stcules</td>\n",
       "      <td>3.0</td>\n",
       "      <td>Almost totally black. Beige foam, quite compac...</td>\n",
       "      <td>1235916604</td>\n",
       "    </tr>\n",
       "    <tr>\n",
       "      <th>3</th>\n",
       "      <td>5.0</td>\n",
       "      <td>47969</td>\n",
       "      <td>10325</td>\n",
       "      <td>Sausa Pils</td>\n",
       "      <td>German Pilsener</td>\n",
       "      <td>3.5</td>\n",
       "      <td>3.0</td>\n",
       "      <td>3.0</td>\n",
       "      <td>2.5</td>\n",
       "      <td>stcules</td>\n",
       "      <td>3.0</td>\n",
       "      <td>Golden yellow color. White, compact foam, quit...</td>\n",
       "      <td>1234725145</td>\n",
       "    </tr>\n",
       "    <tr>\n",
       "      <th>4</th>\n",
       "      <td>7.7</td>\n",
       "      <td>64883</td>\n",
       "      <td>1075</td>\n",
       "      <td>Cauldron DIPA</td>\n",
       "      <td>American Double / Imperial IPA</td>\n",
       "      <td>4.0</td>\n",
       "      <td>4.5</td>\n",
       "      <td>4.0</td>\n",
       "      <td>4.0</td>\n",
       "      <td>johnmichaelsen</td>\n",
       "      <td>4.5</td>\n",
       "      <td>According to the website, the style for the Ca...</td>\n",
       "      <td>1293735206</td>\n",
       "    </tr>\n",
       "  </tbody>\n",
       "</table>\n",
       "</div>"
      ],
      "text/plain": [
       "   beer_ABV  beer_beerId  beer_brewerId               beer_name  \\\n",
       "0       5.0        47986          10325            Sausa Weizen   \n",
       "1       6.2        48213          10325                Red Moon   \n",
       "2       6.5        48215          10325  Black Horse Black Beer   \n",
       "3       5.0        47969          10325              Sausa Pils   \n",
       "4       7.7        64883           1075           Cauldron DIPA   \n",
       "\n",
       "                       beer_style  review_appearance  review_palette  \\\n",
       "0                      Hefeweizen                2.5             2.0   \n",
       "1              English Strong Ale                3.0             2.5   \n",
       "2          Foreign / Export Stout                3.0             2.5   \n",
       "3                 German Pilsener                3.5             3.0   \n",
       "4  American Double / Imperial IPA                4.0             4.5   \n",
       "\n",
       "   review_overall  review_taste review_profileName  review_aroma  \\\n",
       "0             1.5           1.5            stcules           1.5   \n",
       "1             3.0           3.0            stcules           3.0   \n",
       "2             3.0           3.0            stcules           3.0   \n",
       "3             3.0           2.5            stcules           3.0   \n",
       "4             4.0           4.0     johnmichaelsen           4.5   \n",
       "\n",
       "                                         review_text  review_time  \n",
       "0  A lot of foam. But a lot. In the smell some ba...   1234817823  \n",
       "1  Dark red color, light beige foam, average. In ...   1235915097  \n",
       "2  Almost totally black. Beige foam, quite compac...   1235916604  \n",
       "3  Golden yellow color. White, compact foam, quit...   1234725145  \n",
       "4  According to the website, the style for the Ca...   1293735206  "
      ]
     },
     "execution_count": 1,
     "metadata": {},
     "output_type": "execute_result"
    }
   ],
   "source": [
    "import pandas as pd\n",
    "\n",
    "df = pd.read_csv(\"BeerDataScienceProject.tar.bz2\", compression=\"bz2\")\n",
    "df.head()"
   ]
  },
  {
   "cell_type": "code",
   "execution_count": 2,
   "id": "dea30b32",
   "metadata": {
    "scrolled": false
   },
   "outputs": [
    {
     "data": {
      "text/plain": [
       "\"Poured from the bottle into a Chimay goblet. Appearance: Pours a slightly cloudy yellow/orange color with a half finger of fluffy white head. The head fades to a small layer on top of the pour. Smell: Very light and crisp. I'm definitely picking up the ginger, but it's not overly powerful. There is a slight sweetness from the malt as well. Taste: Very light and refreshing. The ginger shows up right away and then fades towards the finish of the sip. The finish is malty and bread like. Mouthfeel: The body is on the thin side with smooth carbonation and a very dry finish. Overall: This is a light and refreshing beer, but nothing spectacular. The amount of ginger is nice, but I would have liked to have more going on.\""
      ]
     },
     "execution_count": 2,
     "metadata": {},
     "output_type": "execute_result"
    }
   ],
   "source": [
    "df['review_text'][5]"
   ]
  },
  {
   "cell_type": "code",
   "execution_count": 3,
   "id": "f32d41e8",
   "metadata": {},
   "outputs": [
    {
     "data": {
      "text/html": [
       "<div>\n",
       "<style scoped>\n",
       "    .dataframe tbody tr th:only-of-type {\n",
       "        vertical-align: middle;\n",
       "    }\n",
       "\n",
       "    .dataframe tbody tr th {\n",
       "        vertical-align: top;\n",
       "    }\n",
       "\n",
       "    .dataframe thead th {\n",
       "        text-align: right;\n",
       "    }\n",
       "</style>\n",
       "<table border=\"1\" class=\"dataframe\">\n",
       "  <thead>\n",
       "    <tr style=\"text-align: right;\">\n",
       "      <th></th>\n",
       "      <th>beer_ABV</th>\n",
       "      <th>beer_beerId</th>\n",
       "      <th>beer_brewerId</th>\n",
       "      <th>review_appearance</th>\n",
       "      <th>review_palette</th>\n",
       "      <th>review_overall</th>\n",
       "      <th>review_taste</th>\n",
       "      <th>review_aroma</th>\n",
       "      <th>review_time</th>\n",
       "    </tr>\n",
       "  </thead>\n",
       "  <tbody>\n",
       "    <tr>\n",
       "      <th>count</th>\n",
       "      <td>508590.000000</td>\n",
       "      <td>528870.000000</td>\n",
       "      <td>528870.000000</td>\n",
       "      <td>528870.000000</td>\n",
       "      <td>528870.000000</td>\n",
       "      <td>528870.000000</td>\n",
       "      <td>528870.000000</td>\n",
       "      <td>528870.000000</td>\n",
       "      <td>5.288700e+05</td>\n",
       "    </tr>\n",
       "    <tr>\n",
       "      <th>mean</th>\n",
       "      <td>7.017442</td>\n",
       "      <td>22098.466016</td>\n",
       "      <td>2598.423429</td>\n",
       "      <td>3.864522</td>\n",
       "      <td>3.758926</td>\n",
       "      <td>3.833197</td>\n",
       "      <td>3.765993</td>\n",
       "      <td>3.817350</td>\n",
       "      <td>1.224885e+09</td>\n",
       "    </tr>\n",
       "    <tr>\n",
       "      <th>std</th>\n",
       "      <td>2.204460</td>\n",
       "      <td>22158.284352</td>\n",
       "      <td>5281.805350</td>\n",
       "      <td>0.604010</td>\n",
       "      <td>0.685335</td>\n",
       "      <td>0.709962</td>\n",
       "      <td>0.669018</td>\n",
       "      <td>0.718903</td>\n",
       "      <td>7.605600e+07</td>\n",
       "    </tr>\n",
       "    <tr>\n",
       "      <th>min</th>\n",
       "      <td>0.010000</td>\n",
       "      <td>3.000000</td>\n",
       "      <td>1.000000</td>\n",
       "      <td>0.000000</td>\n",
       "      <td>1.000000</td>\n",
       "      <td>0.000000</td>\n",
       "      <td>1.000000</td>\n",
       "      <td>1.000000</td>\n",
       "      <td>8.843904e+08</td>\n",
       "    </tr>\n",
       "    <tr>\n",
       "      <th>25%</th>\n",
       "      <td>5.300000</td>\n",
       "      <td>1745.000000</td>\n",
       "      <td>132.000000</td>\n",
       "      <td>3.500000</td>\n",
       "      <td>3.500000</td>\n",
       "      <td>3.500000</td>\n",
       "      <td>3.500000</td>\n",
       "      <td>3.500000</td>\n",
       "      <td>1.174613e+09</td>\n",
       "    </tr>\n",
       "    <tr>\n",
       "      <th>50%</th>\n",
       "      <td>6.500000</td>\n",
       "      <td>14368.000000</td>\n",
       "      <td>394.000000</td>\n",
       "      <td>4.000000</td>\n",
       "      <td>4.000000</td>\n",
       "      <td>4.000000</td>\n",
       "      <td>4.000000</td>\n",
       "      <td>4.000000</td>\n",
       "      <td>1.240366e+09</td>\n",
       "    </tr>\n",
       "    <tr>\n",
       "      <th>75%</th>\n",
       "      <td>8.500000</td>\n",
       "      <td>40528.000000</td>\n",
       "      <td>1475.000000</td>\n",
       "      <td>4.000000</td>\n",
       "      <td>4.000000</td>\n",
       "      <td>4.500000</td>\n",
       "      <td>4.000000</td>\n",
       "      <td>4.500000</td>\n",
       "      <td>1.288560e+09</td>\n",
       "    </tr>\n",
       "    <tr>\n",
       "      <th>max</th>\n",
       "      <td>57.700000</td>\n",
       "      <td>77310.000000</td>\n",
       "      <td>27980.000000</td>\n",
       "      <td>5.000000</td>\n",
       "      <td>5.000000</td>\n",
       "      <td>5.000000</td>\n",
       "      <td>5.000000</td>\n",
       "      <td>5.000000</td>\n",
       "      <td>1.326277e+09</td>\n",
       "    </tr>\n",
       "  </tbody>\n",
       "</table>\n",
       "</div>"
      ],
      "text/plain": [
       "            beer_ABV    beer_beerId  beer_brewerId  review_appearance  \\\n",
       "count  508590.000000  528870.000000  528870.000000      528870.000000   \n",
       "mean        7.017442   22098.466016    2598.423429           3.864522   \n",
       "std         2.204460   22158.284352    5281.805350           0.604010   \n",
       "min         0.010000       3.000000       1.000000           0.000000   \n",
       "25%         5.300000    1745.000000     132.000000           3.500000   \n",
       "50%         6.500000   14368.000000     394.000000           4.000000   \n",
       "75%         8.500000   40528.000000    1475.000000           4.000000   \n",
       "max        57.700000   77310.000000   27980.000000           5.000000   \n",
       "\n",
       "       review_palette  review_overall   review_taste   review_aroma  \\\n",
       "count   528870.000000   528870.000000  528870.000000  528870.000000   \n",
       "mean         3.758926        3.833197       3.765993       3.817350   \n",
       "std          0.685335        0.709962       0.669018       0.718903   \n",
       "min          1.000000        0.000000       1.000000       1.000000   \n",
       "25%          3.500000        3.500000       3.500000       3.500000   \n",
       "50%          4.000000        4.000000       4.000000       4.000000   \n",
       "75%          4.000000        4.500000       4.000000       4.500000   \n",
       "max          5.000000        5.000000       5.000000       5.000000   \n",
       "\n",
       "        review_time  \n",
       "count  5.288700e+05  \n",
       "mean   1.224885e+09  \n",
       "std    7.605600e+07  \n",
       "min    8.843904e+08  \n",
       "25%    1.174613e+09  \n",
       "50%    1.240366e+09  \n",
       "75%    1.288560e+09  \n",
       "max    1.326277e+09  "
      ]
     },
     "execution_count": 3,
     "metadata": {},
     "output_type": "execute_result"
    }
   ],
   "source": [
    "df.describe()"
   ]
  },
  {
   "cell_type": "markdown",
   "id": "6d14b6a1",
   "metadata": {},
   "source": [
    "### Rank the top 3 breweries which produce the strongest beers.\n"
   ]
  },
  {
   "cell_type": "markdown",
   "id": "fd76d9ea",
   "metadata": {},
   "source": [
    "I will be getting the top 3 breweries based on their review_overall scores grouped on the beer_brewerId"
   ]
  },
  {
   "cell_type": "code",
   "execution_count": 4,
   "id": "f263df37",
   "metadata": {
    "scrolled": true
   },
   "outputs": [
    {
     "name": "stdout",
     "output_type": "stream",
     "text": [
      "Top 3 breweries producing the strongest beers are : \n"
     ]
    },
    {
     "data": {
      "text/plain": [
       "beer_brewerId\n",
       "6513     19.228824\n",
       "736      13.750000\n",
       "24215    12.466667\n",
       "Name: beer_ABV, dtype: float64"
      ]
     },
     "execution_count": 4,
     "metadata": {},
     "output_type": "execute_result"
    }
   ],
   "source": [
    "# get the ABV mean of each brewery\n",
    "brewery_abv = df.groupby('beer_brewerId')['beer_ABV'].mean()\n",
    "# sort the mean ABV of brewery in descending order\n",
    "brewery_abv_sorted = brewery_abv.sort_values(ascending=False)\n",
    "\n",
    "print(\"Top 3 breweries producing the strongest beers are : \")\n",
    "# get top 3\n",
    "brewery_abv_sorted.head(3)"
   ]
  },
  {
   "cell_type": "markdown",
   "id": "391d682c",
   "metadata": {},
   "source": [
    "### Which year did beers enjoy the highest ratings?\n"
   ]
  },
  {
   "cell_type": "code",
   "execution_count": 5,
   "id": "74365b31",
   "metadata": {},
   "outputs": [
    {
     "data": {
      "text/plain": [
       "review_year\n",
       "1970    3.833197\n",
       "Name: review_overall, dtype: float64"
      ]
     },
     "execution_count": 5,
     "metadata": {},
     "output_type": "execute_result"
    }
   ],
   "source": [
    "# convert Unix epoch to more readable datetime and then get the years.\n",
    "df['review_year'] = pd.to_datetime(df['review_time']).dt.year\n",
    "\n",
    "# get the average review_overall of each review_year and get the best year by sorting\n",
    "year_best = df.groupby('review_year')['review_overall'].mean().sort_values(ascending=False).head(1)\n",
    "\n",
    "year_best"
   ]
  },
  {
   "cell_type": "markdown",
   "id": "7003e124",
   "metadata": {},
   "source": [
    "### Based on the users' ratings, which factors are important among taste, aroma, appearance, and palette?"
   ]
  },
  {
   "cell_type": "code",
   "execution_count": 10,
   "id": "550a9c89",
   "metadata": {},
   "outputs": [
    {
     "name": "stdout",
     "output_type": "stream",
     "text": [
      "Taste: 0.69\n",
      "Aroma: 0.78\n",
      "Appearance: 0.49\n",
      "Palette: 0.60\n",
      "The most important factor is : Aroma\n"
     ]
    }
   ],
   "source": [
    "# get the absolute correlation value for each factors\n",
    "corr_taste = abs(df['review_overall'].corr(df['review_taste']))\n",
    "corr_aroma = abs(df['review_overall'].corr(df['review_aroma']))\n",
    "corr_appearance = abs(df['review_overall'].corr(df['review_appearance']))\n",
    "corr_palette = abs(df['review_overall'].corr(df['review_palette']))\n",
    "\n",
    "# put it into map\n",
    "corr_map = {\n",
    "    'Taste' : corr_taste,\n",
    "    'Aroma' : corr_aroma,\n",
    "    'Appearance' : corr_appearance,\n",
    "    'Palette' : corr_palette,\n",
    "}\n",
    "\n",
    "# output the correlation value\n",
    "print(f\"Taste: {corr_taste:.2f}\")\n",
    "print(f\"Aroma: {corr_aroma:.2f}\")\n",
    "print(f\"Appearance: {corr_appearance:.2f}\")\n",
    "print(f\"Palette: {corr_palette:.2f}\")\n",
    "\n",
    "# get the most important factor\n",
    "imp_factor = max(corr_map, key = corr_map.get)\n",
    "print(f\"The most important factor is : {imp_factor}\")"
   ]
  },
  {
   "cell_type": "markdown",
   "id": "36994c99",
   "metadata": {},
   "source": [
    "### If you were to recommend 3 beers to your friends based on this data, which ones would you recommend?\n"
   ]
  },
  {
   "cell_type": "markdown",
   "id": "323d10b2",
   "metadata": {},
   "source": [
    "In Korea, the important factor is the \"cleaness\" in the gulp of beer. That factor can be determined by usually low level of ABV.\n",
    "\n",
    "The typical ABV koreans are used to starts with 4.5. So I will start with ABV over 4.5 ABV and under 5.5.\n",
    "\n",
    "With this, we will get the top 3 beer from the list based on their overall review score."
   ]
  },
  {
   "cell_type": "code",
   "execution_count": 7,
   "id": "e30e1c76",
   "metadata": {
    "scrolled": true
   },
   "outputs": [
    {
     "data": {
      "text/html": [
       "<div>\n",
       "<style scoped>\n",
       "    .dataframe tbody tr th:only-of-type {\n",
       "        vertical-align: middle;\n",
       "    }\n",
       "\n",
       "    .dataframe tbody tr th {\n",
       "        vertical-align: top;\n",
       "    }\n",
       "\n",
       "    .dataframe thead th {\n",
       "        text-align: right;\n",
       "    }\n",
       "</style>\n",
       "<table border=\"1\" class=\"dataframe\">\n",
       "  <thead>\n",
       "    <tr style=\"text-align: right;\">\n",
       "      <th></th>\n",
       "      <th>beer_ABV</th>\n",
       "      <th>beer_beerId</th>\n",
       "      <th>beer_brewerId</th>\n",
       "      <th>beer_name</th>\n",
       "      <th>beer_style</th>\n",
       "      <th>review_appearance</th>\n",
       "      <th>review_palette</th>\n",
       "      <th>review_overall</th>\n",
       "      <th>review_taste</th>\n",
       "      <th>review_profileName</th>\n",
       "      <th>review_aroma</th>\n",
       "      <th>review_text</th>\n",
       "      <th>review_time</th>\n",
       "      <th>review_year</th>\n",
       "    </tr>\n",
       "  </thead>\n",
       "  <tbody>\n",
       "    <tr>\n",
       "      <th>491898</th>\n",
       "      <td>5.2</td>\n",
       "      <td>21578</td>\n",
       "      <td>132</td>\n",
       "      <td>Über Pils</td>\n",
       "      <td>German Pilsener</td>\n",
       "      <td>4.5</td>\n",
       "      <td>4.0</td>\n",
       "      <td>5.0</td>\n",
       "      <td>4.5</td>\n",
       "      <td>ellisdee97</td>\n",
       "      <td>4.5</td>\n",
       "      <td>A: Pours light gold with light head which quic...</td>\n",
       "      <td>1148518604</td>\n",
       "      <td>1970</td>\n",
       "    </tr>\n",
       "    <tr>\n",
       "      <th>49950</th>\n",
       "      <td>5.0</td>\n",
       "      <td>1622</td>\n",
       "      <td>394</td>\n",
       "      <td>Stoudt's Scarlet Lady ESB</td>\n",
       "      <td>Extra Special / Strong Bitter (ESB)</td>\n",
       "      <td>4.0</td>\n",
       "      <td>5.0</td>\n",
       "      <td>5.0</td>\n",
       "      <td>4.0</td>\n",
       "      <td>AtlasBrew</td>\n",
       "      <td>5.0</td>\n",
       "      <td>Stoudt's Scarlet Lady ESB 12oz bottle poured i...</td>\n",
       "      <td>1241674335</td>\n",
       "      <td>1970</td>\n",
       "    </tr>\n",
       "    <tr>\n",
       "      <th>448248</th>\n",
       "      <td>4.8</td>\n",
       "      <td>3149</td>\n",
       "      <td>590</td>\n",
       "      <td>Home Town Blonde</td>\n",
       "      <td>German Pilsener</td>\n",
       "      <td>4.0</td>\n",
       "      <td>4.0</td>\n",
       "      <td>5.0</td>\n",
       "      <td>4.5</td>\n",
       "      <td>ChiSox05</td>\n",
       "      <td>4.0</td>\n",
       "      <td>Quickly frothed up and then dissipated mostly ...</td>\n",
       "      <td>1182568122</td>\n",
       "      <td>1970</td>\n",
       "    </tr>\n",
       "  </tbody>\n",
       "</table>\n",
       "</div>"
      ],
      "text/plain": [
       "        beer_ABV  beer_beerId  beer_brewerId                  beer_name  \\\n",
       "491898       5.2        21578            132                  Über Pils   \n",
       "49950        5.0         1622            394  Stoudt's Scarlet Lady ESB   \n",
       "448248       4.8         3149            590           Home Town Blonde   \n",
       "\n",
       "                                 beer_style  review_appearance  \\\n",
       "491898                      German Pilsener                4.5   \n",
       "49950   Extra Special / Strong Bitter (ESB)                4.0   \n",
       "448248                      German Pilsener                4.0   \n",
       "\n",
       "        review_palette  review_overall  review_taste review_profileName  \\\n",
       "491898             4.0             5.0           4.5         ellisdee97   \n",
       "49950              5.0             5.0           4.0          AtlasBrew   \n",
       "448248             4.0             5.0           4.5           ChiSox05   \n",
       "\n",
       "        review_aroma                                        review_text  \\\n",
       "491898           4.5  A: Pours light gold with light head which quic...   \n",
       "49950            5.0  Stoudt's Scarlet Lady ESB 12oz bottle poured i...   \n",
       "448248           4.0  Quickly frothed up and then dissipated mostly ...   \n",
       "\n",
       "        review_time  review_year  \n",
       "491898   1148518604         1970  \n",
       "49950    1241674335         1970  \n",
       "448248   1182568122         1970  "
      ]
     },
     "execution_count": 7,
     "metadata": {},
     "output_type": "execute_result"
    }
   ],
   "source": [
    "fav_ABV_recommend = df[(df['beer_ABV'] >= 4.5) & (df['beer_ABV'] <= 5.5)].sort_values(by=\"review_overall\", ascending=False)\n",
    "fav_ABV_recommend.head(3)"
   ]
  },
  {
   "cell_type": "markdown",
   "id": "9fbeec30",
   "metadata": {},
   "source": [
    "Based on outcome, Pilsener is what we got, and pilsener actually is one of the types Koreans like the most, which is a part of a lager."
   ]
  },
  {
   "cell_type": "markdown",
   "id": "53649a48",
   "metadata": {},
   "source": [
    "### Which beer style seems to be the favourite based on the reviews written by users? How does written reviews compare to overall review score for the beer style?"
   ]
  },
  {
   "cell_type": "markdown",
   "id": "0e96763e",
   "metadata": {},
   "source": [
    "First, I will start by getting the overall review score for the beer style."
   ]
  },
  {
   "cell_type": "code",
   "execution_count": 8,
   "id": "d742c564",
   "metadata": {},
   "outputs": [
    {
     "data": {
      "text/plain": [
       "beer_style\n",
       "Gueuze    4.140952\n",
       "Name: review_overall, dtype: float64"
      ]
     },
     "execution_count": 8,
     "metadata": {},
     "output_type": "execute_result"
    }
   ],
   "source": [
    "best_style_by_score = df.groupby('beer_style')['review_overall'].mean().sort_values(ascending=False)\n",
    "best_style_by_score.head(1)"
   ]
  },
  {
   "cell_type": "markdown",
   "id": "ade6af66",
   "metadata": {},
   "source": [
    "Now we will check the text"
   ]
  },
  {
   "cell_type": "code",
   "execution_count": null,
   "id": "7f4da455",
   "metadata": {},
   "outputs": [],
   "source": [
    "# Download NLTK stopwords (if not already downloaded)\n",
    "nltk.download('stopwords')\n",
    "nltk.download('punkt')"
   ]
  },
  {
   "cell_type": "code",
   "execution_count": 16,
   "id": "6edac284",
   "metadata": {},
   "outputs": [
    {
     "name": "stderr",
     "output_type": "stream",
     "text": [
      "[nltk_data] Downloading package stopwords to\n",
      "[nltk_data]     C:\\Users\\USER\\AppData\\Roaming\\nltk_data...\n",
      "[nltk_data]   Package stopwords is already up-to-date!\n",
      "[nltk_data] Downloading package punkt to\n",
      "[nltk_data]     C:\\Users\\USER\\AppData\\Roaming\\nltk_data...\n",
      "[nltk_data]   Package punkt is already up-to-date!\n"
     ]
    },
    {
     "name": "stdout",
     "output_type": "stream",
     "text": [
      "                                         review_text  \\\n",
      "0  A lot of foam. But a lot. In the smell some ba...   \n",
      "1  Dark red color, light beige foam, average. In ...   \n",
      "2  Almost totally black. Beige foam, quite compac...   \n",
      "3  Golden yellow color. White, compact foam, quit...   \n",
      "4  According to the website, the style for the Ca...   \n",
      "\n",
      "                                 cleaned_review_text  \n",
      "0  lot foam lot smell banana lactic tart good sta...  \n",
      "1  dark red color light beige foam average smell ...  \n",
      "2  almost totally black beige foam quite compact ...  \n",
      "3  golden yellow color white compact foam quite c...  \n",
      "4  according website style caldera cauldron chang...  \n"
     ]
    }
   ],
   "source": [
    "import pandas as pd\n",
    "import re\n",
    "import nltk\n",
    "from nltk.corpus import stopwords\n",
    "from nltk.tokenize import word_tokenize\n",
    "\n",
    "\n",
    "\n",
    "# Initialize stopwords and word tokenizer\n",
    "stop_words = set(stopwords.words('english'))\n",
    "\n",
    "# Text preprocessing function\n",
    "def preprocess_text(text):\n",
    "    if isinstance(text, str):\n",
    "        # Remove special characters, punctuation, and non-alphanumeric characters\n",
    "        text = re.sub(r'[^a-zA-Z\\s]', '', text)\n",
    "\n",
    "        # Convert text to lowercase\n",
    "        text = text.lower()\n",
    "\n",
    "        # Tokenize the text\n",
    "        tokens = word_tokenize(text)\n",
    "\n",
    "        # Remove stopwords\n",
    "        filtered_tokens = [word for word in tokens if word not in stop_words]\n",
    "\n",
    "        # Join tokens back into a cleaned text\n",
    "        cleaned_text = ' '.join(filtered_tokens)\n",
    "    \n",
    "        return cleaned_text\n",
    "    else :\n",
    "        return ''\n",
    "\n",
    "# Apply text preprocessing to the 'review_text' column\n",
    "df['cleaned_review_text'] = df['review_text'].apply(preprocess_text)\n",
    "\n",
    "# Display the cleaned review text\n",
    "print(df[['review_text', 'cleaned_review_text']].head())"
   ]
  },
  {
   "cell_type": "code",
   "execution_count": 20,
   "id": "59663153",
   "metadata": {},
   "outputs": [
    {
     "name": "stderr",
     "output_type": "stream",
     "text": [
      "[nltk_data] Downloading package vader_lexicon to\n",
      "[nltk_data]     C:\\Users\\USER\\AppData\\Roaming\\nltk_data...\n",
      "[nltk_data]   Package vader_lexicon is already up-to-date!\n"
     ]
    },
    {
     "data": {
      "text/plain": [
       "True"
      ]
     },
     "execution_count": 20,
     "metadata": {},
     "output_type": "execute_result"
    }
   ],
   "source": [
    "nltk.download('vader_lexicon')"
   ]
  },
  {
   "cell_type": "code",
   "execution_count": 21,
   "id": "edd4ca5c",
   "metadata": {},
   "outputs": [
    {
     "name": "stdout",
     "output_type": "stream",
     "text": [
      "positive    497955\n",
      "negative     22395\n",
      "neutral       8520\n",
      "Name: sentiment_label, dtype: int64\n"
     ]
    }
   ],
   "source": [
    "from nltk.sentiment.vader import SentimentIntensityAnalyzer\n",
    "\n",
    "# Initialize the VADER sentiment analyzer\n",
    "sid = SentimentIntensityAnalyzer()\n",
    "\n",
    "# Calculate sentiment scores for cleaned review text\n",
    "df['sentiment_scores'] = df['cleaned_review_text'].apply(lambda x: sid.polarity_scores(x))\n",
    "\n",
    "# Define a threshold for sentiment labeling\n",
    "threshold = 0.1\n",
    "\n",
    "# Assign sentiment labels based on compound scores\n",
    "df['sentiment_label'] = df['sentiment_scores'].apply(lambda x: 'positive' if x['compound'] > threshold else 'negative' if x['compound'] < -threshold else 'neutral')\n",
    "\n",
    "# Analyze and visualize sentiment distribution\n",
    "sentiment_distribution = df['sentiment_label'].value_counts()\n",
    "print(sentiment_distribution)\n"
   ]
  },
  {
   "cell_type": "code",
   "execution_count": 27,
   "id": "40bb7eb5",
   "metadata": {},
   "outputs": [
    {
     "data": {
      "image/png": "[encoded data removed]",
      "text/plain": [
       "<Figure size 800x600 with 1 Axes>"
      ]
     },
     "metadata": {},
     "output_type": "display_data"
    }
   ],
   "source": [
    "import matplotlib.pyplot as plt\n",
    "\n",
    "# Plot the sentiment distribution\n",
    "plt.figure(figsize=(8, 6))\n",
    "sentiment_distribution.plot(kind='bar', color=['green', 'red', 'blue'])\n",
    "plt.title('Review Text Sentiment Distribution')\n",
    "plt.xlabel('Sentiment Label')\n",
    "plt.ylabel('Frequency')\n",
    "plt.xticks(rotation=0)\n",
    "\n",
    "# Show the plot\n",
    "plt.show()"
   ]
  },
  {
   "cell_type": "code",
   "execution_count": 25,
   "id": "e6c17b02",
   "metadata": {},
   "outputs": [
    {
     "name": "stdout",
     "output_type": "stream",
     "text": [
      "sentiment_label   positive  percentage_positive\n",
      "beer_style                                     \n",
      "Braggot           0.984925            98.492462\n",
      "Eisbock           0.984615            98.461538\n",
      "Quadrupel (Quad)  0.978516            97.851642\n",
      "Flanders Red Ale  0.975507            97.550735\n",
      "Kvass             0.974576            97.457627\n"
     ]
    }
   ],
   "source": [
    "# Group by beer style and calculate sentiment distribution\n",
    "# Here we are going to normalize to get the relative frequency(=proportion) rather than absolute counts\n",
    "sentiment_dist_by_style = df.groupby('beer_style')['sentiment_label'].value_counts(normalize=True).unstack().fillna(0)\n",
    "\n",
    "# Calculate the percentage of positive reviews for each style\n",
    "sentiment_dist_by_style['percentage_positive'] = sentiment_dist_by_style['positive'] * 100\n",
    "\n",
    "# Rank beer styles by percentage of positive reviews (desc)\n",
    "favorite_styles = sentiment_dist_by_style.sort_values(by='percentage_positive', ascending=False)\n",
    "\n",
    "# Display the top favorite styles\n",
    "print(favorite_styles[['positive', 'percentage_positive']].head())\n"
   ]
  },
  {
   "cell_type": "markdown",
   "id": "6b499e0c",
   "metadata": {},
   "source": [
    "So by overall_ratings, Gueuze was the style that had the highest score.\n",
    "\n",
    "However, with text reviews users submitted, we could find that Braggot had the most positive text reviews."
   ]
  },
  {
   "cell_type": "code",
   "execution_count": null,
   "id": "01166b74",
   "metadata": {},
   "outputs": [],
   "source": []
  },
  {
   "cell_type": "markdown",
   "id": "a4582a2b",
   "metadata": {},
   "source": [
    "## Recap"
   ]
  },
  {
   "cell_type": "markdown",
   "id": "42d7df5a",
   "metadata": {},
   "source": [
    "It was fun to get to review text analysis using the sentiment analysis."
   ]
  }
 ],
 "metadata": {
  "kernelspec": {
   "display_name": "Python 3 (ipykernel)",
   "language": "python",
   "name": "python3"
  },
  "language_info": {
   "codemirror_mode": {
    "name": "ipython",
    "version": 3
   },
   "file_extension": ".py",
   "mimetype": "text/x-python",
   "name": "python",
   "nbconvert_exporter": "python",
   "pygments_lexer": "ipython3",
   "version": "3.10.10"
  }
 },
 "nbformat": 4,
 "nbformat_minor": 5
}

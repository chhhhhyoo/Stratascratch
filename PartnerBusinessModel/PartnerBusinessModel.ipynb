{
 "cells": [
  {
   "cell_type": "markdown",
   "metadata": {},
   "source": [
    "## Partner Business Modeling"
   ]
  },
  {
   "cell_type": "markdown",
   "metadata": {},
   "source": [
    "## Scenario 1"
   ]
  },
  {
   "cell_type": "markdown",
   "metadata": {},
   "source": [
    "Scenario 1: It is going to be a huge Saturday and there will need to be many more cars on the road than last week. \n",
    "In order to get drivers to go online, we're assessing the following two bonus options in terms of cost:\n",
    "\n",
    "- Option 1: $50 for each driver that is online at least 8 hours, accepts 90% of requests, completes 10 trips, and has a rating of 4.7 or better during the time frame;\n",
    "- Option 2: $4/trip for all drivers who complete 12 trips, and have a 4.7 or better rating.\n",
    "\n",
    "\n",
    "Using the dataset provided and given Scenario 1, provide answers to the questions below:\n",
    "\n",
    "- How much would the total bonus payout be with Option 1?\n",
    "- How much would the total bonus payout be with Option 2?\n",
    "- How many drivers would qualify for a bonus under Option 1 but not under Option 2?\n",
    "- What percentages of drivers online completed less than 10 trips, had an acceptance rate of less than 90%, and had a rating of 4.7 or higher?"
   ]
  },
  {
   "cell_type": "code",
   "execution_count": 1,
   "metadata": {},
   "outputs": [
    {
     "data": {
      "text/html": [
       "<div>\n",
       "<style scoped>\n",
       "    .dataframe tbody tr th:only-of-type {\n",
       "        vertical-align: middle;\n",
       "    }\n",
       "\n",
       "    .dataframe tbody tr th {\n",
       "        vertical-align: top;\n",
       "    }\n",
       "\n",
       "    .dataframe thead th {\n",
       "        text-align: right;\n",
       "    }\n",
       "</style>\n",
       "<table border=\"1\" class=\"dataframe\">\n",
       "  <thead>\n",
       "    <tr style=\"text-align: right;\">\n",
       "      <th></th>\n",
       "      <th>Name</th>\n",
       "      <th>Trips Completed</th>\n",
       "      <th>Accept Rate</th>\n",
       "      <th>Supply Hours</th>\n",
       "      <th>Rating</th>\n",
       "    </tr>\n",
       "  </thead>\n",
       "  <tbody>\n",
       "    <tr>\n",
       "      <th>0</th>\n",
       "      <td>Abdul</td>\n",
       "      <td>1</td>\n",
       "      <td>100%</td>\n",
       "      <td>3</td>\n",
       "      <td>4.8</td>\n",
       "    </tr>\n",
       "    <tr>\n",
       "      <th>1</th>\n",
       "      <td>Abraham</td>\n",
       "      <td>12</td>\n",
       "      <td>83%</td>\n",
       "      <td>5</td>\n",
       "      <td>4.7</td>\n",
       "    </tr>\n",
       "    <tr>\n",
       "      <th>2</th>\n",
       "      <td>Adelina</td>\n",
       "      <td>1</td>\n",
       "      <td>100%</td>\n",
       "      <td>2</td>\n",
       "      <td>4.7</td>\n",
       "    </tr>\n",
       "    <tr>\n",
       "      <th>3</th>\n",
       "      <td>Akilah</td>\n",
       "      <td>1</td>\n",
       "      <td>100%</td>\n",
       "      <td>2</td>\n",
       "      <td>4.9</td>\n",
       "    </tr>\n",
       "    <tr>\n",
       "      <th>4</th>\n",
       "      <td>Alec</td>\n",
       "      <td>21</td>\n",
       "      <td>76%</td>\n",
       "      <td>11</td>\n",
       "      <td>5.0</td>\n",
       "    </tr>\n",
       "  </tbody>\n",
       "</table>\n",
       "</div>"
      ],
      "text/plain": [
       "      Name  Trips Completed Accept Rate  Supply Hours  Rating\n",
       "0    Abdul                1        100%             3     4.8\n",
       "1  Abraham               12         83%             5     4.7\n",
       "2  Adelina                1        100%             2     4.7\n",
       "3   Akilah                1        100%             2     4.9\n",
       "4     Alec               21         76%            11     5.0"
      ]
     },
     "execution_count": 1,
     "metadata": {},
     "output_type": "execute_result"
    }
   ],
   "source": [
    "import pandas as pd\n",
    "\n",
    "df = pd.read_csv(\"dataset_2.csv\")\n",
    "df.head()"
   ]
  },
  {
   "cell_type": "code",
   "execution_count": 6,
   "metadata": {},
   "outputs": [],
   "source": [
    "df['Accept Rate'] = df['Accept Rate'].str.rstrip('%').astype(float) / 100\n"
   ]
  },
  {
   "cell_type": "code",
   "execution_count": 7,
   "metadata": {},
   "outputs": [
    {
     "data": {
      "text/html": [
       "<div>\n",
       "<style scoped>\n",
       "    .dataframe tbody tr th:only-of-type {\n",
       "        vertical-align: middle;\n",
       "    }\n",
       "\n",
       "    .dataframe tbody tr th {\n",
       "        vertical-align: top;\n",
       "    }\n",
       "\n",
       "    .dataframe thead th {\n",
       "        text-align: right;\n",
       "    }\n",
       "</style>\n",
       "<table border=\"1\" class=\"dataframe\">\n",
       "  <thead>\n",
       "    <tr style=\"text-align: right;\">\n",
       "      <th></th>\n",
       "      <th>Trips Completed</th>\n",
       "      <th>Accept Rate</th>\n",
       "      <th>Supply Hours</th>\n",
       "      <th>Rating</th>\n",
       "    </tr>\n",
       "  </thead>\n",
       "  <tbody>\n",
       "    <tr>\n",
       "      <th>count</th>\n",
       "      <td>119.000000</td>\n",
       "      <td>119.000000</td>\n",
       "      <td>119.000000</td>\n",
       "      <td>119.000000</td>\n",
       "    </tr>\n",
       "    <tr>\n",
       "      <th>mean</th>\n",
       "      <td>11.941176</td>\n",
       "      <td>0.850924</td>\n",
       "      <td>7.084034</td>\n",
       "      <td>4.698571</td>\n",
       "    </tr>\n",
       "    <tr>\n",
       "      <th>std</th>\n",
       "      <td>5.857480</td>\n",
       "      <td>0.188338</td>\n",
       "      <td>2.794000</td>\n",
       "      <td>0.406876</td>\n",
       "    </tr>\n",
       "    <tr>\n",
       "      <th>min</th>\n",
       "      <td>1.000000</td>\n",
       "      <td>0.190000</td>\n",
       "      <td>1.000000</td>\n",
       "      <td>1.600000</td>\n",
       "    </tr>\n",
       "    <tr>\n",
       "      <th>25%</th>\n",
       "      <td>8.000000</td>\n",
       "      <td>0.770000</td>\n",
       "      <td>5.000000</td>\n",
       "      <td>4.600000</td>\n",
       "    </tr>\n",
       "    <tr>\n",
       "      <th>50%</th>\n",
       "      <td>12.000000</td>\n",
       "      <td>0.910000</td>\n",
       "      <td>7.000000</td>\n",
       "      <td>4.800000</td>\n",
       "    </tr>\n",
       "    <tr>\n",
       "      <th>75%</th>\n",
       "      <td>15.000000</td>\n",
       "      <td>1.000000</td>\n",
       "      <td>9.000000</td>\n",
       "      <td>4.900000</td>\n",
       "    </tr>\n",
       "    <tr>\n",
       "      <th>max</th>\n",
       "      <td>31.000000</td>\n",
       "      <td>1.000000</td>\n",
       "      <td>11.000000</td>\n",
       "      <td>5.000000</td>\n",
       "    </tr>\n",
       "  </tbody>\n",
       "</table>\n",
       "</div>"
      ],
      "text/plain": [
       "       Trips Completed  Accept Rate  Supply Hours      Rating\n",
       "count       119.000000   119.000000    119.000000  119.000000\n",
       "mean         11.941176     0.850924      7.084034    4.698571\n",
       "std           5.857480     0.188338      2.794000    0.406876\n",
       "min           1.000000     0.190000      1.000000    1.600000\n",
       "25%           8.000000     0.770000      5.000000    4.600000\n",
       "50%          12.000000     0.910000      7.000000    4.800000\n",
       "75%          15.000000     1.000000      9.000000    4.900000\n",
       "max          31.000000     1.000000     11.000000    5.000000"
      ]
     },
     "execution_count": 7,
     "metadata": {},
     "output_type": "execute_result"
    }
   ],
   "source": [
    "df.describe()"
   ]
  },
  {
   "cell_type": "code",
   "execution_count": 4,
   "metadata": {},
   "outputs": [
    {
     "data": {
      "text/plain": [
       "True"
      ]
     },
     "execution_count": 4,
     "metadata": {},
     "output_type": "execute_result"
    }
   ],
   "source": [
    "df['Name'].is_unique"
   ]
  },
  {
   "cell_type": "markdown",
   "metadata": {},
   "source": [
    "How much would the total bonus payout be with Option 1?\n",
    "\n",
    "Note that \n",
    "\n",
    "Option 1: $50 for each driver that is online at least 8 hours, accepts 90% of requests, completes 10 trips, and has a rating of 4.7 or better during the time frame;"
   ]
  },
  {
   "cell_type": "code",
   "execution_count": 48,
   "metadata": {},
   "outputs": [
    {
     "name": "stdout",
     "output_type": "stream",
     "text": [
      "The total bonus payout of Option 1 : $1050\n"
     ]
    }
   ],
   "source": [
    "df_opt1 = df[(df['Rating'] >= 4.7) & (df['Accept Rate'] >= 0.9) & (df['Trips Completed'] >= 10) & (df['Supply Hours'] >= 8)].copy()\n",
    "qualified_drivers_opt1 = len(df_opt1)\n",
    "tot_opt1_bonus = 50 * qualified_drivers_opt1\n",
    "print(f'The total bonus payout of Option 1 : ${tot_opt1_bonus}')"
   ]
  },
  {
   "cell_type": "markdown",
   "metadata": {},
   "source": [
    "How much would the total bonus payout be with Option 2?\n",
    "\n",
    "Note that \n",
    "\n",
    "Option 2: $4/trip for all drivers who complete 12 trips, and have a 4.7 or better rating."
   ]
  },
  {
   "cell_type": "code",
   "execution_count": 49,
   "metadata": {},
   "outputs": [
    {
     "name": "stdout",
     "output_type": "stream",
     "text": [
      "The total bonus payout of Option 2 : $2976\n"
     ]
    }
   ],
   "source": [
    "df_opt2 = df[(df['Rating'] >= 4.7) & (df['Trips Completed'] >= 12)].copy()\n",
    "df_opt2['bonus'] = df_opt2['Trips Completed'] * 4\n",
    "tot_opt2_bonus = df_opt2['bonus'].sum()\n",
    "print(f'The total bonus payout of Option 2 : ${tot_opt2_bonus}')"
   ]
  },
  {
   "cell_type": "markdown",
   "metadata": {},
   "source": [
    "How many drivers would qualify for a bonus under Option 1 but not under Option 2?"
   ]
  },
  {
   "cell_type": "code",
   "execution_count": 55,
   "metadata": {},
   "outputs": [
    {
     "name": "stdout",
     "output_type": "stream",
     "text": [
      "Drivers qulified for a bonus under Opt 1 but not Opt 2 : 2\n"
     ]
    }
   ],
   "source": [
    "only_opt1 = df_opt1[~df_opt1['Name'].isin(df_opt2['Name'])]\n",
    "num_only_opt1 = len(only_opt1)\n",
    "print(f'Drivers qulified for a bonus under Opt 1 but not Opt 2 : {num_only_opt1}')"
   ]
  },
  {
   "cell_type": "markdown",
   "metadata": {},
   "source": [
    "What percentages of drivers online completed less than 10 trips, had an acceptance rate of less than 90%, and had a rating of 4.7 or higher?"
   ]
  },
  {
   "cell_type": "code",
   "execution_count": 63,
   "metadata": {},
   "outputs": [
    {
     "name": "stdout",
     "output_type": "stream",
     "text": [
      "Percent of interest :  10.92%\n"
     ]
    }
   ],
   "source": [
    "tot_driver = len(df)\n",
    "df_p4 = df[(df['Trips Completed'] < 10) & (df['Accept Rate'] < 0.9) & (df['Rating'] >= 4.7)]\n",
    "percent_interest = len(df_p4) / tot_driver * 100\n",
    "print(f'Percent of interest : {percent_interest : .2f}%')"
   ]
  },
  {
   "cell_type": "markdown",
   "metadata": {},
   "source": [
    "## Scenario 1 End"
   ]
  },
  {
   "cell_type": "markdown",
   "metadata": {},
   "source": [
    "## Scenario 2"
   ]
  },
  {
   "cell_type": "markdown",
   "metadata": {},
   "source": [
    "Scenario 2: A taxi driver currently generates $200 per day in fares (before expenses), works six days a week, takes three weeks off, and has the following expenses:\n",
    "\n",
    "- Gas - $200 per week\n",
    "- Insurance - $400 per month\n",
    "- Vehicle rent (by the week) - $500\n",
    "\n",
    "The driver doesn't pay gas and rent expenses on off weeks.\n",
    "\n",
    "Now, let's assume that the same driver would buy a Town Car and partner with Uber. If he does, his gas expenses would go up by 5%, his insurance expense would decrease by 20%, and he would no longer be renting a vehicle. However, he would need to buy a car. The driver would still take three weeks off per year.\n",
    "\n",
    "Given Scenario 2, provide answers to the questions below:\n",
    "\n",
    "- How much money (after expenses) does the taxi driver make per year without partnering with Uber?\n",
    "- You are convincing the same driver above to buy a Town Car and partner with Uber. Assuming the new car is 40,000 USD, how much would the driver's gross fares need to increase per week to fully pay for the car in year 1 and maintain the same yearly profit margin as before?"
   ]
  },
  {
   "cell_type": "code",
   "execution_count": 2,
   "metadata": {},
   "outputs": [],
   "source": [
    "weeks_yr = 52\n",
    "earning_day = 200\n",
    "workday = 6\n",
    "earning_week = earning_day * workday\n",
    "week_off = 3\n",
    "\n",
    "# without uber partnership\n",
    "gas_week = 200 # not on off-week\n",
    "insur_month = 400\n",
    "veh_rent_week = 500 # not on off-week"
   ]
  },
  {
   "cell_type": "markdown",
   "metadata": {},
   "source": [
    "How much money (after expenses) does the taxi driver make per year without partnering with Uber?"
   ]
  },
  {
   "cell_type": "code",
   "execution_count": 12,
   "metadata": {},
   "outputs": [
    {
     "name": "stdout",
     "output_type": "stream",
     "text": [
      "money (after expenses) per year without partnering with Uber : $19700\n",
      "profit margin without partnering with Uber : 33.5 %\n"
     ]
    }
   ],
   "source": [
    "tot_earning = earning_week * (weeks_yr - week_off)\n",
    "gas_rent_cost = (gas_week + veh_rent_week) * (weeks_yr - week_off)\n",
    "# week_off_refund = (gas_week + veh_rent_week)\n",
    "cost_tot = gas_rent_cost + insur_month * 12\n",
    "\n",
    "earning_year = tot_earning - cost_tot\n",
    "print(f'money (after expenses) per year without partnering with Uber : ${earning_year}')\n"
   ]
  },
  {
   "cell_type": "markdown",
   "metadata": {},
   "source": [
    "#### 6. You are convincing the same driver above to buy a Town Car and partner with Uber. Assuming the new car is 40,000 USD, how much would the driver's gross fares need to increase per week to fully pay for the car in year 1 and maintain the same yearly profit margin as before?"
   ]
  },
  {
   "cell_type": "code",
   "execution_count": 21,
   "metadata": {},
   "outputs": [
    {
     "name": "stdout",
     "output_type": "stream",
     "text": [
      "increase in driver's gross fare per week partnering with Uber : $306.73\n"
     ]
    }
   ],
   "source": [
    "# with uber partnership\n",
    "gas_week_ub = gas_week * 1.05\n",
    "insur_month_ub = insur_month * 0.8\n",
    "car_purchase = 40000\n",
    "\n",
    "gas_tot_ub = gas_week_ub * (weeks_yr - week_off)\n",
    "insur_tot_ub = insur_month_ub * 12\n",
    "cost_tot_ub = gas_tot_ub + insur_tot_ub + car_purchase\n",
    "\n",
    "new_fare_week = (cost_tot_ub + earning_year) / (weeks_yr - week_off)\n",
    "increased_per_week = round(new_fare_week - earning_week,2)\n",
    "print(f\"increase in driver's gross fare per week partnering with Uber : ${increased_per_week}\")"
   ]
  },
  {
   "cell_type": "code",
   "execution_count": null,
   "metadata": {},
   "outputs": [],
   "source": []
  }
 ],
 "metadata": {
  "kernelspec": {
   "display_name": "Python 3",
   "language": "python",
   "name": "python3"
  },
  "language_info": {
   "codemirror_mode": {
    "name": "ipython",
    "version": 3
   },
   "file_extension": ".py",
   "mimetype": "text/x-python",
   "name": "python",
   "nbconvert_exporter": "python",
   "pygments_lexer": "ipython3",
   "version": "3.10.10"
  }
 },
 "nbformat": 4,
 "nbformat_minor": 2
}

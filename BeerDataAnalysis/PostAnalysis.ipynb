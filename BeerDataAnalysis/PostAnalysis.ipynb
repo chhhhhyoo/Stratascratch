{
 "cells": [
  {
   "cell_type": "markdown",
   "metadata": {},
   "source": [
    "# 1\n",
    "### I should've been more cautious on if the data is well collected or have some flaws in the data."
   ]
  },
  {
   "cell_type": "markdown",
   "metadata": {},
   "source": [
    "Also, I should think more about the characteristics and the features that this specific type of data or topic can have\n",
    "\n",
    "EX 1) In this data, especially related to the ratings of a product, there might be manipulation of ratings score by having multiple review submitted by the same person. This should be taken into consideration.\n",
    "=> So if there is multiple reviews from the same user and same product, it might be better to drop some or more.\n",
    "==> Then, the question would be which data should you be dropping.\n",
    "    => In this case, it would be fair to keep the highest scores given to the product from the same user and drop the rest.\n",
    "\n"
   ]
  },
  {
   "cell_type": "markdown",
   "metadata": {},
   "source": [
    "# 2"
   ]
  },
  {
   "cell_type": "markdown",
   "metadata": {},
   "source": [
    "## I should be more open to different approaches."
   ]
  },
  {
   "cell_type": "markdown",
   "metadata": {},
   "source": [
    "even though one approach looks obvious, I should check if there is better, or new ways to get to the result, visualize the result, or interpret the result."
   ]
  },
  {
   "cell_type": "markdown",
   "metadata": {},
   "source": []
  }
 ],
 "metadata": {
  "language_info": {
   "name": "python"
  }
 },
 "nbformat": 4,
 "nbformat_minor": 2
}
